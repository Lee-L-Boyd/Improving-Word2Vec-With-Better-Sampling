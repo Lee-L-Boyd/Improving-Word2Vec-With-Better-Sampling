{
 "cells": [
  {
   "cell_type": "code",
   "execution_count": 1,
   "metadata": {},
   "outputs": [
    {
     "name": "stdout",
     "output_type": "stream",
     "text": [
      "200000\n"
     ]
    }
   ],
   "source": [
    "import tensorflow as tf\n",
    "import numpy as np\n",
    "import pickle\n",
    "#emb_file=\"part-whole_embs\"\n",
    "#emb2_file = \"embs_custom.tgt\"\n",
    "\n",
    "emb_file='/home/student/Desktop/paper_1/hadoop-1.2.1/1_sparse_matrix/tfidf_nospan_reduced'\n",
    "#emb2_file ='/home/student/Desktop/semantic_relations/embeddings/dataset_embeddings.emb'\n",
    "LOG_DIR = '/home/student/Desktop/paper_1/log_dir/tfidf'\n",
    "embedding_size = 400\n",
    "sess = tf.InteractiveSession()\n",
    "r_dictionary = pickle.load(open('/home/student/Desktop/paper_1/hadoop-1.2.1/1_cache_files/200k_rdictionary' , 'r'))\n",
    "embedding_vector = []\n",
    "\n",
    "embedding_vector = pickle.load(open(emb_file, \"r\"))\n",
    "print(len(embedding_vector))"
   ]
  },
  {
   "cell_type": "code",
   "execution_count": 2,
   "metadata": {
    "scrolled": true
   },
   "outputs": [],
   "source": [
    "#a=[1,2,3,4]\n",
    "#b=[1,3,5,7]\n",
    "#c=[2,3,5,7]\n",
    "#embedding_vector = []\n",
    "#embedding_vector.append(a)\n",
    "#embedding_vector.append(b)\n",
    "#embedding_vector.append(c)\n",
    "#e2 = open(emb2_file, \"r\")\n",
    "#for line in e:\n",
    "#    pieces = line.split()\n",
    "#    embedding_list = []\n",
    "#    for j in range(embedding_size + 1):\n",
    "#        if j!=0:\n",
    "#            embedding_list.append(float(pieces[j]))\n",
    "#    words.append(pieces[0])\n",
    "#    found = 1\n",
    "#    embedding_vector.append(embedding_list)\n",
    "#for line in e2:\n",
    "#    pieces = line.split()\n",
    "#    embedding_list = []\n",
    "#    for j in range(embedding_size + 1):\n",
    "#        if j!=0:\n",
    "#            embedding_list.append(float(pieces[j]))\n",
    "#    words.append(pieces[0]+\"(w2v)\")\n",
    "#    found = 1\n",
    "#    embedding_vector.append(embedding_list)\n",
    "#e.close()\n",
    "#e2.close()\n",
    "\n",
    "graph = tf.Graph()\n",
    "\n",
    "embedding_placeholder = tf.Variable(embedding_vector, trainable=False)\n",
    "x = tf.placeholder(tf.int64, name = 'x')\n",
    "x1 = tf.placeholder(tf.int64, name = 'x1')\n",
    "tf.summary.scalar('x', x)\n",
    "tf.summary.scalar('x1', x1)\n",
    "merged = tf.summary.merge_all()\n",
    "train_writer = tf.summary.FileWriter(LOG_DIR + '/train', sess.graph)\n",
    "init = tf.global_variables_initializer()\n",
    "\n",
    "\n",
    "summary_writer = tf.summary.FileWriter(LOG_DIR, sess.graph)\n",
    "init.run()\n",
    "summary, post_x1 = sess.run([merged, x1], feed_dict = {x: 3.0, x1:4.0})\n",
    "train_writer.add_summary(summary, 1)\n",
    "train_writer.close()\n",
    "saver = tf.train.Saver()\n",
    "\n",
    "\n",
    "saver.save(sess, LOG_DIR+'model.ckpt', 1)\n",
    "with open(LOG_DIR+'/metadata.tsv','w') as f:\n",
    "    for i in range(len(embedding_vector)):\n",
    "        f.write(r_dictionary[i]+'\\n')\n",
    "        #f.write('test' + str(i) + '\\n')\n",
    "    from tensorflow.contrib.tensorboard.plugins import projector\n",
    "    \n",
    "    config = projector.ProjectorConfig()\n",
    "    embedding = config.embeddings.add()\n",
    "    embedding.metadata_path = LOG_DIR + '/metadata.tsv'\n",
    "    projector.visualize_embeddings(summary_writer, config)\n",
    "\n",
    "\n",
    "    "
   ]
  },
  {
   "cell_type": "code",
   "execution_count": null,
   "metadata": {
    "collapsed": true
   },
   "outputs": [],
   "source": []
  },
  {
   "cell_type": "code",
   "execution_count": null,
   "metadata": {
    "collapsed": true
   },
   "outputs": [],
   "source": []
  }
 ],
 "metadata": {
  "kernelspec": {
   "display_name": "Python 2",
   "language": "python",
   "name": "python2"
  },
  "language_info": {
   "codemirror_mode": {
    "name": "ipython",
    "version": 2
   },
   "file_extension": ".py",
   "mimetype": "text/x-python",
   "name": "python",
   "nbconvert_exporter": "python",
   "pygments_lexer": "ipython2",
   "version": "2.7.12"
  }
 },
 "nbformat": 4,
 "nbformat_minor": 2
}
