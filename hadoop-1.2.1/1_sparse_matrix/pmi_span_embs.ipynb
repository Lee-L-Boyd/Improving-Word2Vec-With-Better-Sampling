{
 "cells": [
  {
   "cell_type": "code",
   "execution_count": 6,
   "metadata": {},
   "outputs": [],
   "source": [
    "import pickle\n",
    "import random\n",
    "embeddings = pickle.load(open('pmi_span_reduced', 'r'))\n",
    "r_dictionary = pickle.load(open('../1_cache_files/200k_rdictionary', 'r'))\n",
    "f = open('pmi_span_embeddings', 'w')\n",
    "for i, v in enumerate(embeddings):\n",
    "  f.write(r_dictionary[i])\n",
    "  for value in v:\n",
    "    if value == 0:\n",
    "        f.write(' ' + str(.001))\n",
    "    else:\n",
    "        f.write(' ' + str(value+.001))\n",
    "    #f.write(' ' + str(random.randint(1,101)))\n",
    "  try:\n",
    "    r_dictionary[i+1]\n",
    "    f.write('\\n')\n",
    "  except:\n",
    "    pass\n",
    "f.close()"
   ]
  },
  {
   "cell_type": "code",
   "execution_count": null,
   "metadata": {
    "collapsed": true
   },
   "outputs": [],
   "source": []
  }
 ],
 "metadata": {
  "kernelspec": {
   "display_name": "Python 2",
   "language": "python",
   "name": "python2"
  },
  "language_info": {
   "codemirror_mode": {
    "name": "ipython",
    "version": 2
   },
   "file_extension": ".py",
   "mimetype": "text/x-python",
   "name": "python",
   "nbconvert_exporter": "python",
   "pygments_lexer": "ipython2",
   "version": "2.7.12"
  }
 },
 "nbformat": 4,
 "nbformat_minor": 2
}
