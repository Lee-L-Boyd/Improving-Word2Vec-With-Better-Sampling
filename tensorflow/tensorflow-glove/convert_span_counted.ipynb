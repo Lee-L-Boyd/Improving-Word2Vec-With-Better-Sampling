{
 "cells": [
  {
   "cell_type": "code",
   "execution_count": null,
   "metadata": {},
   "outputs": [],
   "source": [
    "f = open('span_counted', 'r')\n",
    "coor_matrix = {}\n",
    "for line in f:\n",
    "    line = line.replace('@#@', '\\t', 1)\n",
    "    source,context,count = line.split('\\t', 2)\n",
    "    coor_matrix[(source,context)] = count\n",
    "print coor_matrix"
   ]
  },
  {
   "cell_type": "code",
   "execution_count": null,
   "metadata": {},
   "outputs": [],
   "source": []
  }
 ],
 "metadata": {
  "kernelspec": {
   "display_name": "Python 2",
   "language": "python",
   "name": "python2"
  },
  "language_info": {
   "codemirror_mode": {
    "name": "ipython",
    "version": 2
   },
   "file_extension": ".py",
   "mimetype": "text/x-python",
   "name": "python",
   "nbconvert_exporter": "python",
   "pygments_lexer": "ipython2",
   "version": "2.7.15"
  }
 },
 "nbformat": 4,
 "nbformat_minor": 2
}
