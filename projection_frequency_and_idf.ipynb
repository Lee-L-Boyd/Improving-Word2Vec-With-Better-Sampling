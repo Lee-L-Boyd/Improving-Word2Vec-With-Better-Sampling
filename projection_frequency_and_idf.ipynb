{
 "cells": [
  {
   "cell_type": "code",
   "execution_count": null,
   "metadata": {},
   "outputs": [],
   "source": []
  },
  {
   "cell_type": "code",
   "execution_count": 1,
   "metadata": {},
   "outputs": [
    {
     "name": "stdout",
     "output_type": "stream",
     "text": [
      "[u'the', 0.06481893549503132, 5.690958564275667e-05]\n"
     ]
    }
   ],
   "source": [
    "import tensorflow as tf\n",
    "import numpy as np\n",
    "import pickle\n",
    "embedding_size = 3\n",
    "LOG_DIR = '/home/student/Desktop/paper_1/log_dir/'\n",
    "sess = tf.InteractiveSession()\n",
    "embedding_dictionary = pickle.load(open('norm_frequency_dictionary.pickle','rb'))\n",
    "print(embedding_dictionary[0])\n",
    "embedding_vector = list(map(lambda x: [x[1],x[2],0], embedding_dictionary))"
   ]
  },
  {
   "cell_type": "code",
   "execution_count": 2,
   "metadata": {
    "scrolled": true
   },
   "outputs": [],
   "source": [
    "#a=[1,2,3,4]\n",
    "#b=[1,3,5,7]\n",
    "#c=[2,3,5,7]\n",
    "#embedding_vector = []\n",
    "#embedding_vector.append(a)\n",
    "#embedding_vector.append(b)\n",
    "#embedding_vector.append(c)\n",
    "#e2 = open(emb2_file, \"r\")\n",
    "#for line in e:\n",
    "#    pieces = line.split()\n",
    "#    embedding_list = []\n",
    "#    for j in range(embedding_size + 1):\n",
    "#        if j!=0:\n",
    "#            embedding_list.append(float(pieces[j]))\n",
    "#    words.append(pieces[0])\n",
    "#    found = 1\n",
    "#    embedding_vector.append(embedding_list)\n",
    "#for line in e2:\n",
    "#    pieces = line.split()\n",
    "#    embedding_list = []\n",
    "#    for j in range(embedding_size + 1):\n",
    "#        if j!=0:\n",
    "#            embedding_list.append(float(pieces[j]))\n",
    "#    words.append(pieces[0]+\"(w2v)\")\n",
    "#    found = 1\n",
    "#    embedding_vector.append(embedding_list)\n",
    "#e.close()\n",
    "#e2.close()\n",
    "\n",
    "graph = tf.Graph()\n",
    "\n",
    "embedding_placeholder = tf.Variable(embedding_vector, trainable=False)\n",
    "x = tf.placeholder(tf.int64, name = 'x')\n",
    "x1 = tf.placeholder(tf.int64, name = 'x1')\n",
    "tf.summary.scalar('x', x)\n",
    "tf.summary.scalar('x1', x1)\n",
    "tf.summary.histogram('embedding_vector', embedding_vector)\n",
    "merged = tf.summary.merge_all()\n",
    "train_writer = tf.summary.FileWriter(LOG_DIR + '/train', sess.graph)\n",
    "init = tf.global_variables_initializer()\n",
    "\n",
    "\n",
    "summary_writer = tf.summary.FileWriter(LOG_DIR, sess.graph)\n",
    "init.run()\n",
    "summary, post_x1 = sess.run([merged, x1], feed_dict = {x: 3.0, x1:4.0})\n",
    "train_writer.add_summary(summary, 1)\n",
    "train_writer.close()\n",
    "saver = tf.train.Saver()\n",
    "\n",
    "\n",
    "saver.save(sess, LOG_DIR+'model.ckpt', 1)\n",
    "with open(LOG_DIR + '/metadata.tsv','w') as f:\n",
    "    for i in range(len(embedding_dictionary)):\n",
    "        f.write(embedding_dictionary[i][0]+'\\n')\n",
    "        #f.write('test' + str(i) + '\\n')\n",
    "    from tensorflow.contrib.tensorboard.plugins import projector\n",
    "    \n",
    "    config = projector.ProjectorConfig()\n",
    "    embedding = config.embeddings.add()\n",
    "    embedding.metadata_path = LOG_DIR + '/metadata.tsv'\n",
    "    projector.visualize_embeddings(summary_writer, config)\n",
    "\n",
    "\n",
    "    "
   ]
  },
  {
   "cell_type": "code",
   "execution_count": null,
   "metadata": {},
   "outputs": [],
   "source": []
  },
  {
   "cell_type": "code",
   "execution_count": null,
   "metadata": {},
   "outputs": [],
   "source": []
  }
 ],
 "metadata": {
  "kernelspec": {
   "display_name": "Python 2",
   "language": "python",
   "name": "python2"
  },
  "language_info": {
   "codemirror_mode": {
    "name": "ipython",
    "version": 2
   },
   "file_extension": ".py",
   "mimetype": "text/x-python",
   "name": "python",
   "nbconvert_exporter": "python",
   "pygments_lexer": "ipython2",
   "version": "2.7.15"
  }
 },
 "nbformat": 4,
 "nbformat_minor": 2
}
